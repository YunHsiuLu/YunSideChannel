{
 "cells": [
  {
   "cell_type": "code",
   "execution_count": 390,
   "id": "bf1b7ffb-23ea-488f-85b6-98507b2da543",
   "metadata": {},
   "outputs": [
    {
     "data": {
      "text/plain": [
       "'\\ns+A = [10, 15, 20, 25, 30]\\ns_error = [20, 21, 22, 23, 24]\\ns_s = [30, 31, 32, 33, 34]\\ns_s1 = [40, 41, 42, 43, 44]\\ns_e1 = [50, 51, 52, 53, 54]\\ns_e2 = [110, 111, 112, 113, 114]\\n'"
      ]
     },
     "execution_count": 390,
     "metadata": {},
     "output_type": "execute_result"
    }
   ],
   "source": [
    "import numpy as np\n",
    "import matplotlib.pyplot as plt\n",
    "import sys\n",
    "import random\n",
    "# Global variables\n",
    "N = 20\n",
    "M = 8 # number of message bits\n",
    "q = 97\n",
    "debug = False\n",
    "offset = 0\n",
    "s_A = [np.random.randint(0, 1000) for _ in range(M)]\n",
    "s_error = [np.random.randint(0, 1000) for _ in range(M)]\n",
    "s_s = [np.random.randint(0, 1000) for _ in range(M)]\n",
    "s_s1 = [np.random.randint(0, 1000) for _ in range(M)]\n",
    "s_e1 = [np.random.randint(0, 1000) for _ in range(M)]\n",
    "s_e2 = [np.random.randint(0, 1000) for _ in range(M)]\n",
    "s_m = np.random.randint(0, 1000)\n",
    "\"\"\"\n",
    "s+A = [10, 15, 20, 25, 30]\n",
    "s_error = [20, 21, 22, 23, 24]\n",
    "s_s = [30, 31, 32, 33, 34]\n",
    "s_s1 = [40, 41, 42, 43, 44]\n",
    "s_e1 = [50, 51, 52, 53, 54]\n",
    "s_e2 = [110, 111, 112, 113, 114]\n",
    "\"\"\"\n"
   ]
  },
  {
   "cell_type": "markdown",
   "id": "8191c97f-6dca-4814-80c3-a69de2531b08",
   "metadata": {},
   "source": [
    "# Learning With Errors\n",
    "$A*s + e = b \\in Z_{q}^{M}$<br>\n",
    "$Z_q=[-\\frac{q-1}{2}, \\frac{q-1}{2}]$<br>\n",
    "Here assume errors $e\\leftarrow \\chi_{e}^{N}$ , which means$\\{-1, 0, 1\\}^{N}$<br>\n",
    "Using function: np.random.binomial(n=2, p=0.5, size=M)-1<br>\n",
    "Same as above, for secret $s\\leftarrow \\chi_{s}^{N}$<br>\n",
    "np.random.binomial(n=q-1, p=0.5, size=N)$\\ -\\ \\frac{q-1}{2}$<br>\n",
    "For public key A array, $A \\in Z_{q}^{N\\times N}$<br>\n",
    "A=np.array(\\[np.random.randint(0, q) for i in range(N)\\] for j in range(M))\\ ($A\\ is\\ N\\times N$)"
   ]
  },
  {
   "cell_type": "markdown",
   "id": "9d278988-8516-4b89-9ff8-d2fa3819afef",
   "metadata": {},
   "source": [
    "# Linder-Peikert public key encryption scheme\n",
    "secret key here is choosen from binomial distribution"
   ]
  },
  {
   "cell_type": "code",
   "execution_count": 349,
   "id": "a2b630c7-91b2-4d6e-8ee7-28f50cb4aca0",
   "metadata": {},
   "outputs": [],
   "source": [
    "def KeyGen(seed_A=10, seed_error=20, seed_s=30):\n",
    "    np.random.seed(seed_A)\n",
    "    A = np.array([[np.random.randint(0, q) for _ in range(N)] for __ in range(N)])\n",
    "    np.random.seed(seed_error)\n",
    "    e = np.random.binomial(n=2, p=0.5, size=N)-1\n",
    "    if debug:\n",
    "        print(\"error = \\n\", e)\n",
    "    np.random.seed(seed_s)\n",
    "    s = np.random.binomial(n=2, p=0.5, size=N)-1\n",
    "    if np.all(s==0):\n",
    "        np.random.seed(seed_s + seed_A)\n",
    "        s = np.random.binomial(n=2, p=0.5, size=N)-1\n",
    "    # Public key b ---->\n",
    "    b = (np.matmul(A, s) + e) % q\n",
    "\n",
    "    return (A, b), s"
   ]
  },
  {
   "cell_type": "code",
   "execution_count": 350,
   "id": "f573cab8-c882-41ca-8417-61db60578d90",
   "metadata": {},
   "outputs": [],
   "source": [
    "def encode(x): # x in {0, 1}\n",
    "    return (q//2)*x\n",
    "\n",
    "def decode(c_v): # c_v is c-v\n",
    "    \"\"\"\n",
    "    if -q/4 < c_v and c_v < q/4:\n",
    "        return 0\n",
    "    elif c_v > q/4 or c_v < -q/4:\n",
    "        return 1\n",
    "    else:\n",
    "        print(\"error!!!!!!!!\")\n",
    "        return -9999\n",
    "    \"\"\"\n",
    "    return abs(int(round(c_v/(q//2))))\n",
    "\n",
    "def Enc(pk, m, seed_s1=77, seed_e1=99, seed_e2=111): # public key = (A,b)  message m in {0, 1}\n",
    "    np.random.seed(seed_s1)\n",
    "    s1 = np.random.binomial(n=2, p=0.5, size=N)-1\n",
    "    np.random.seed(seed_e1)\n",
    "    e1 = np.random.binomial(n=2, p=0.5, size=N)-1\n",
    "    np.random.seed(seed_e2)\n",
    "    e2 = np.random.binomial(n=2, p=0.5)-1\n",
    "    \n",
    "    A = pk[0]\n",
    "    b = pk[1]\n",
    "    b1 = (np.matmul(s1, A) + e1) % q\n",
    "    \n",
    "    # inner product <r, b>\n",
    "    v1 = (np.inner(s1, b) + e2) % q\n",
    "    c = (encode(m) + v1) % q\n",
    "    \n",
    "    if debug:\n",
    "        print(s1, e1, e2)\n",
    "        print(\"b1 = \\n\", b1)\n",
    "        print(\"v1 = \\n\", v1)\n",
    "    \n",
    "    return (b1, c)\n",
    "def Dec(s, cipher): # cipher = (b1, c)\n",
    "    b1 = cipher[0]\n",
    "    c  = cipher[1]\n",
    "    v = np.inner(b1, s) % q\n",
    "    if debug:\n",
    "        print(v)\n",
    "    \n",
    "    return decode(c-v)"
   ]
  },
  {
   "cell_type": "markdown",
   "id": "38b0daef-7c5c-403a-86ac-ae3816d88ed0",
   "metadata": {},
   "source": [
    "# Key Generation"
   ]
  },
  {
   "cell_type": "code",
   "execution_count": 391,
   "id": "fa441ddd-9535-4157-b008-c7d1b30d02a2",
   "metadata": {},
   "outputs": [],
   "source": [
    "# Key Generation part\n",
    "PK = []\n",
    "SK = []\n",
    "for i in range(M):\n",
    "    pk, sk = KeyGen(s_A[i]+offset, s_error[i]+offset, s_s[i]+offset)\n",
    "    #pk, sk = KeyGen()\n",
    "    PK.append(pk)\n",
    "    SK.append(sk)\n",
    "    if debug:\n",
    "        print(pk)\n",
    "        print(sk)\n"
   ]
  },
  {
   "cell_type": "code",
   "execution_count": 392,
   "id": "aea66fbc-fc90-4e23-99a5-0d9ce4be6a1f",
   "metadata": {},
   "outputs": [
    {
     "name": "stdout",
     "output_type": "stream",
     "text": [
      "message m is:\n",
      " [0 1 1 0 0 1 1 1]\n",
      "bit 0:\n",
      "cipher text c is:\n",
      " (array([37, 10, 78, 13, 71, 76, 48, 55,  1, 37, 64, 56, 66, 25, 74, 36, 47,\n",
      "       54, 24, 44]), 27)\n",
      "bit 1:\n",
      "cipher text c is:\n",
      " (array([32, 25, 75, 86, 38, 41, 56, 17, 84, 44, 43, 25, 79, 84, 90, 14, 80,\n",
      "        7,  6, 55]), 45)\n",
      "bit 2:\n",
      "cipher text c is:\n",
      " (array([85, 85, 78, 14,  4, 21, 50, 56, 14, 60, 94, 56, 60, 53, 28, 60, 65,\n",
      "       34, 65, 96]), 86)\n",
      "bit 3:\n",
      "cipher text c is:\n",
      " (array([40,  5, 24, 26,  6, 18, 48, 78, 93, 13, 87, 89, 36, 51, 12, 69, 62,\n",
      "       89, 44,  0]), 47)\n",
      "bit 4:\n",
      "cipher text c is:\n",
      " (array([61, 58, 66, 44, 96, 25, 56, 57, 83, 12, 31, 75, 21, 45, 49, 78, 85,\n",
      "       80, 62, 17]), 85)\n",
      "bit 5:\n",
      "cipher text c is:\n",
      " (array([78, 50, 96, 95, 14, 17, 79, 45, 23, 53, 95,  7, 68,  8, 81, 45, 57,\n",
      "       87, 51, 86]), 38)\n",
      "bit 6:\n",
      "cipher text c is:\n",
      " (array([43, 61, 65, 27, 53, 73, 50, 11, 61, 39, 66, 44, 41, 85, 74, 14, 84,\n",
      "       70,  0, 42]), 84)\n",
      "bit 7:\n",
      "cipher text c is:\n",
      " (array([80, 57, 50, 76, 22, 95, 42, 92, 20, 88, 55, 28, 87, 61, 61, 65, 32,\n",
      "       46, 82, 83]), 70)\n"
     ]
    }
   ],
   "source": [
    "np.random.seed(seed_m)\n",
    "m = np.array([np.random.choice(2) for _ in range(M)])\n",
    "print(\"message m is:\\n\", m)\n",
    "\n",
    "Cipher = []\n",
    "for i in range(len(m)):\n",
    "    print(\"bit %d:\" % (i))\n",
    "    cipher_text = Enc(PK[i], m[i], s_s1[i]+offset, s_e1[i]+offset, s_e2[i]+offset)\n",
    "    #cipher_text = Enc(PK[i], m[i])\n",
    "    Cipher.append(cipher_text)\n",
    "    print(\"cipher text c is:\\n\", cipher_text)"
   ]
  },
  {
   "cell_type": "code",
   "execution_count": 393,
   "id": "de9b82d4-dde6-4891-ad74-e91f4e848af1",
   "metadata": {},
   "outputs": [
    {
     "name": "stdout",
     "output_type": "stream",
     "text": [
      "Decode result is:  [0, 1, 1, 0, 0, 1, 1, 1]\n",
      "Decode success?  [ True  True  True  True  True  True  True  True]\n"
     ]
    }
   ],
   "source": [
    "m_ = []\n",
    "for i in range(len(Cipher)):\n",
    "    m_.append(Dec(SK[i], Cipher[i]))\n",
    "print(\"Decode result is: \", m_)\n",
    "print(\"Decode success? \", m_ == m)"
   ]
  },
  {
   "cell_type": "code",
   "execution_count": null,
   "id": "0161475d-d9d5-4db5-806a-342b3f3cd8cc",
   "metadata": {},
   "outputs": [],
   "source": []
  },
  {
   "cell_type": "code",
   "execution_count": null,
   "id": "711c157e-bccf-48ef-b602-eb9227585238",
   "metadata": {},
   "outputs": [],
   "source": []
  }
 ],
 "metadata": {
  "kernelspec": {
   "display_name": "Python 3 (ipykernel)",
   "language": "python",
   "name": "python3"
  },
  "language_info": {
   "codemirror_mode": {
    "name": "ipython",
    "version": 3
   },
   "file_extension": ".py",
   "mimetype": "text/x-python",
   "name": "python",
   "nbconvert_exporter": "python",
   "pygments_lexer": "ipython3",
   "version": "3.8.10"
  }
 },
 "nbformat": 4,
 "nbformat_minor": 5
}
